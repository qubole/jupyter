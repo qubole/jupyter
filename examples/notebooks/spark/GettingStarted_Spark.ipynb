{
  "metadata":{
    "language_info":{
      "name":"scala",
      "mimetype":"text/x-scala",
      "codemirror_mode":"text/x-scala",
      "pygments_lexer":"scala"
    },
    "kernelspec":{
      "name":"sparkkernel",
      "display_name":"Spark",
      "language":""
    }
  },
  "nbformat_minor":4,
  "nbformat":4,
  "cells":[
    {
      "cell_type":"markdown",
      "source":" ## This is a scala example notebook\n- Supported magics can be found via %%help\n- %%markdown: markdown or Select \"Markdown\" from Cell type dropdown\n- %%sql: sql on spark\n- %%bash or %%sh: shell\n- %%local: Execution in kernel\n- %%configure: Can be used to configure Spark settings",
      "metadata":{

      }
    },
    {
      "cell_type":"markdown",
      "source":"### Run spark command\n- SparkContext is available as sc\n- Spark application is started lazily on the first Spark command run",
      "metadata":{

      }
    },
    {
      "cell_type":"code",
      "source":"sc.version",
      "metadata":{
        "trusted":true
      },
      "execution_count":1,
      "outputs":[
        {
          "output_type":"display_data",
          "data":{
            "text/plain":"<IPython.core.display.HTML object>"
          },
          "metadata":{

          }
        },
        {
          "name":"stdout",
          "text":"SparkSession available as 'spark'.\n",
          "output_type":"stream"
        },
        {
          "output_type":"display_data",
          "data":{
            "text/plain":"<IPython.core.display.HTML object>",
            "text/html":"<div class=\"progress-ipython-shell\"></div>"
          },
          "metadata":{

          }
        },
        {
          "name":"stdout",
          "text":"res2: String = 2.3.2\n",
          "output_type":"stream"
        }
      ]
    },
    {
      "cell_type":"markdown",
      "source":"### Scala SparkPi Example",
      "metadata":{

      }
    },
    {
      "cell_type":"code",
      "source":"import scala.math.random\nimport org.apache.spark._\nval slices = 6 \nval n = 100000 * slices\nval count = sc.parallelize(1 to n, slices).map { i =>\n  val x = random * 2 - 1\n  val y = random * 2 - 1\n  if (x*x + y*y < 1) 1 else 0\n}.reduce(_ + _)\nprintln(\"Pi is roughly \" + 4.0 * count / n)",
      "metadata":{
        "trusted":true
      },
      "execution_count":2,
      "outputs":[
        {
          "output_type":"display_data",
          "data":{
            "text/plain":"<IPython.core.display.HTML object>",
            "text/html":"<div class=\"progress-ipython-shell\"></div>"
          },
          "metadata":{

          }
        },
        {
          "name":"stdout",
          "text":"import scala.math.random\nimport org.apache.spark._\nslices: Int = 6\nn: Int = 600000\ncount: Int = 471113\nPi is roughly 3.1407533333333335\n",
          "output_type":"stream"
        }
      ]
    },
    {
      "cell_type":"markdown",
      "source":"### Top 10 words in dataset in s3",
      "metadata":{

      }
    },
    {
      "cell_type":"code",
      "source": "val file = scala.io.Source.fromURL(\"https://raw.githubusercontent.com/qubole/jupyter/master/examples/data/pg20417.txt\")\nval counts = sc.parallelize(file.mkString.split(\" \")).\nmap(word => (word, 1)).reduceByKey(_+_).\nmap(item => item.swap).  // interchanges position of entries in each tuple\nsortByKey(false).\nmap(item => item.swap).  // interchanges position of entries in each tuple\ntake(10)\n\ncounts.foreach(println)\n",
      "metadata":{
        "trusted":true
      },
      "execution_count":3,
      "outputs":[
        {
          "output_type":"display_data",
          "data":{
            "text/plain":"<IPython.core.display.HTML object>",
            "text/html":"<div class=\"progress-ipython-shell\"></div>"
          },
          "metadata":{

          }
        },
        {
          "name":"stdout",
          "text": "file: String =\nThis is a sample text file\nThis file is to be used for Python Open Labs 11\nI hope you practised and learned well in the previous sessions\nBut as is human nature, out of sight is out of mind\nI hope you have been practising your python\nLets put your programming to test today\nThere are no full stops in this file, because this class is about learning and learning never stops just like my cheesy lame lines\nThanks for your patience\nThis is an update on gist for testing embedding.\ncounts: Array[(String, Int)] = Array((is,6), (for,3), (your,3), (hope,2), (learning,2), (this,2), (out,2), (in,2), (stops,2), (you,2))\n(is,6)\n(for,3)\n(your,3)\n(hope,2)\n(learning,2)\n(this,2)\n(out,2)\n(in,2)\n(stops,2)\n(you,2)\n",
          "output_type":"stream"
        }
      ]
    },
    {
      "cell_type":"markdown",
      "source":"### sql example",
      "metadata":{

      }
    },
    {
      "cell_type":"code",
      "source":"%%sql\nshow tables",
      "metadata":{
        "trusted":true
      },
      "execution_count":4,
      "outputs":[
        {
          "output_type":"display_data",
          "data":{
            "text/plain":"<IPython.core.display.HTML object>",
            "text/html":"<div class=\"progress-ipython-shell\"></div>"
          },
          "metadata":{

          }
        },
        {
          "output_type":"display_data",
          "data":{
            "text/plain":"<IPython.core.display.HTML object>",
            "text/html":"<div class=\"progress-ipython-shell\"></div>"
          },
          "metadata":{

          }
        },
        {
          "name":"stdout",
          "text":"",
          "output_type":"stream"
        },
        {
          "output_type":"display_data",
          "data":{
            "text/plain":"VBox(children=(HBox(children=(HTML(value='Type:'), Button(description='Table', layout=Layout(width='70px'), st\u2026",
            "application/vnd.jupyter.widget-view+json":{
              "version_major":2,
              "version_minor":0,
              "model_id":"9a9a7ab254c746d88682931b50d1fdea"
            }
          },
          "metadata":{

          }
        },
        {
          "output_type":"display_data",
          "data":{
            "text/plain":"Output()",
            "application/vnd.jupyter.widget-view+json":{
              "version_major":2,
              "version_minor":0,
              "model_id":"71d4c0c441884d52b4ede7f3c9eb8854"
            }
          },
          "metadata":{

          }
        }
      ]
    },
    {
      "cell_type":"code",
      "source":"// Alternate way to use spark sql\nspark.sql(\"show tables\").collect",
      "metadata":{
        "trusted":true
      },
      "execution_count":5,
      "outputs":[
        {
          "output_type":"display_data",
          "data":{
            "text/plain":"<IPython.core.display.HTML object>",
            "text/html":"<div class=\"progress-ipython-shell\"></div>"
          },
          "metadata":{

          }
        },
        {
          "name":"stdout",
          "text":"res8: Array[org.apache.spark.sql.Row] = Array([default,default_qubole_airline_origin_destination,false], [default,default_qubole_memetracker,false])\n",
          "output_type":"stream"
        }
      ]
    },
    {
      "cell_type":"code",
      "source":"%%sql\nselect * from default_qubole_memetracker limit 10",
      "metadata":{
        "trusted":true
      },
      "execution_count":6,
      "outputs":[
        {
          "output_type":"display_data",
          "data":{
            "text/plain":"<IPython.core.display.HTML object>",
            "text/html":"<div class=\"progress-ipython-shell\"></div>"
          },
          "metadata":{

          }
        },
        {
          "output_type":"display_data",
          "data":{
            "text/plain":"<IPython.core.display.HTML object>",
            "text/html":"<div class=\"progress-ipython-shell\"></div>"
          },
          "metadata":{

          }
        },
        {
          "output_type":"display_data",
          "data":{
            "text/plain":"VBox(children=(HBox(children=(HTML(value='Type:'), Button(description='Table', layout=Layout(width='70px'), st\u2026",
            "application/vnd.jupyter.widget-view+json":{
              "version_major":2,
              "version_minor":0,
              "model_id":"7f64a96e3668425fab925b34d7882525"
            }
          },
          "metadata":{

          }
        },
        {
          "output_type":"display_data",
          "data":{
            "text/plain":"Output()",
            "application/vnd.jupyter.widget-view+json":{
              "version_major":2,
              "version_minor":0,
              "model_id":"daeef545ce934311b680d0e2409afeb5"
            }
          },
          "metadata":{

          }
        }
      ]
    },
    {
      "cell_type":"markdown",
      "source":"### Visualizations on airline data for four quarters",
      "metadata":{

      }
    },
    {
      "cell_type":"code",
      "source":"%%sql\nselect origin, quarter, count(*)/1000000 count from default_qubole_airline_origin_destination\n  where quarter is not NULL group by origin, quarter order by count desc limit 100\n",
      "metadata":{
        "trusted":true
      },
      "execution_count":7,
      "outputs":[
        {
          "output_type":"display_data",
          "data":{
            "text/plain":"<IPython.core.display.HTML object>",
            "text/html":"<div class=\"progress-ipython-shell\"></div>"
          },
          "metadata":{

          }
        },
        {
          "output_type":"display_data",
          "data":{
            "text/plain":"<IPython.core.display.HTML object>",
            "text/html":"<div class=\"progress-ipython-shell\"></div>"
          },
          "metadata":{

          }
        },
        {
          "output_type":"display_data",
          "data":{
            "text/plain":"VBox(children=(HBox(children=(HTML(value='Type:'), Button(description='Table', layout=Layout(width='70px'), st\u2026",
            "application/vnd.jupyter.widget-view+json":{
              "version_major":2,
              "version_minor":0,
              "model_id":"af96c6ad3ff24286b4fb219abd537719"
            }
          },
          "metadata":{

          }
        },
        {
          "output_type":"display_data",
          "data":{
            "text/plain":"Output()",
            "application/vnd.jupyter.widget-view+json":{
              "version_major":2,
              "version_minor":0,
              "model_id":"6085d0e8e88e444f85a9724019c092de"
            }
          },
          "metadata":{

          }
        }
      ]
    },
    {
      "cell_type":"markdown",
      "source":"### Matplotlib example using store and local magic\n- Using \"-o\" with sql stores the data in the specified variable in the kernel",
      "metadata":{
      }
    },
    {
      "cell_type":"code",
      "source":"%%sql -o data -q\nselect * from default_qubole_airline_origin_destination limit 10",
      "metadata":{
        "trusted":true
      },
      "execution_count":8,
      "outputs":[
        {
          "output_type":"display_data",
          "data":{
            "text/plain":"<IPython.core.display.HTML object>",
            "text/html":"<div class=\"progress-ipython-shell\"></div>"
          },
          "metadata":{

          }
        },
        {
          "output_type":"display_data",
          "data":{
            "text/plain":"<IPython.core.display.HTML object>",
            "text/html":"<div class=\"progress-ipython-shell\"></div>"
          },
          "metadata":{

          }
        }
      ]
    },
    {
      "cell_type":"markdown",
      "source":"### Matplotlib can be used alongwith %%local to plot stored data",
      "metadata":{

      }
    },
    {
      "cell_type":"code",
      "source":"%%local\n%matplotlib inline\nimport pandas as pd\nimport matplotlib.pyplot as plt\n\ndata['distance'] = pd.to_numeric(data['distance'], errors='coerce')\ndata.plot(kind='bar', x='dest', y='distance', color='blue')\n\nplt.show()",
      "metadata":{
        "trusted":true
      },
      "execution_count":9,
      "outputs":[
        {
          "output_type":"display_data",
          "data":{
            "text/plain":"<Figure size 432x288 with 1 Axes>",
            "image/png":"[encoded data removed]"
          },
          "metadata":{
            "needs_background":"light"
          }
        }
      ]
    },
    {
      "cell_type":"code",
      "source":"",
      "metadata":{

      },
      "execution_count":null,
      "outputs":[

      ]
    },
    {
      "cell_type":"code",
      "source":"",
      "metadata":{

      },
      "execution_count":null,
      "outputs":[

      ]
    }
  ]
}
